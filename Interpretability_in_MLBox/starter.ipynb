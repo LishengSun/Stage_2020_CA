{
 "cells": [
  {
   "cell_type": "markdown",
   "metadata": {},
   "source": [
    "# Goal: package new interpret. tools to test locally in MLBox\n",
    "\n",
    "As we know, in MLBox a pipeline is composed of:\n",
    "- preprocessing (MLBox)\n",
    "- feature engineering (MLBox)\n",
    "- Optimisation i.e. feature selection and model selection (MLBox)\n",
    "- interpretability tools (where you are going to extend)\n",
    "\n",
    "After the optimisation steps, MLBox outputs a 'validator' object, in which the best pipelines are encoded. For exemple, \n"
   ]
  },
  {
   "cell_type": "raw",
   "metadata": {},
   "source": [
    "validator.__dict__.keys() #= dict_keys(['prediction_type', 'target_name', 'target_encoder', 'dtqty', 'fe', 'dict_fs_models', 'dict_time_used', '_fitOK'])           "
   ]
  },
  {
   "cell_type": "markdown",
   "metadata": {},
   "source": [
    "In particular, validator.dict_fs_models is a dictionary, where validator.dict_fs_models[model_with_metric_name] gives you the trained feature selector and predictor of the chosen model. For example, \n"
   ]
  },
  {
   "cell_type": "raw",
   "metadata": {},
   "source": [
    "validator.dict_fs_models['accuracy_RandomForest']['fs'] #is a 'BasicFeatureSelector' object. "
   ]
  },
  {
   "cell_type": "raw",
   "metadata": {},
   "source": [
    "validator.dict_fs_models['accuracy_RandomForest']['est']._estimator #is a sklearn RandomForestClassifier object."
   ]
  },
  {
   "cell_type": "markdown",
   "metadata": {},
   "source": [
    "## This notebook\n",
    "Since validator is a MLBox module, you cannot access to it directly. I prepared:\n",
    "- 2 trained models, i.e. validator.dict_fs_models[model_with_metric_name]['est'].\\_estimator:\n",
    "[RF_trained_christine.pkl](./RF_trained_christine.pkl) and [LightGBM_trained_christine.pkl](./LightGBM_trained_christine.pkl)\n",
    "- the processed test dataframe: \n",
    "[christine_test_after_fs_RF.csv](./christine_test_after_fs_RF.csv) and [christine_test_after_fs_gbm.csv](./christine_test_after_fs_gbm.csv)\n",
    "\n",
    "with which I think you can apply interp. tools.\n"
   ]
  },
  {
   "cell_type": "markdown",
   "metadata": {},
   "source": [
    "## Getting started"
   ]
  },
  {
   "cell_type": "code",
   "execution_count": 1,
   "metadata": {},
   "outputs": [],
   "source": [
    "import pandas as pd\n",
    "import pickle\n",
    "import sklearn\n",
    "import sklearn.ensemble\n",
    "from sklearn.ensemble import RandomForestClassifier"
   ]
  },
  {
   "cell_type": "code",
   "execution_count": 2,
   "metadata": {},
   "outputs": [
    {
     "data": {
      "text/plain": [
       "'0.22.2.post1'"
      ]
     },
     "execution_count": 2,
     "metadata": {},
     "output_type": "execute_result"
    }
   ],
   "source": [
    "sklearn.__version__"
   ]
  },
  {
   "cell_type": "code",
   "execution_count": 3,
   "metadata": {},
   "outputs": [
    {
     "name": "stdout",
     "output_type": "stream",
     "text": [
      "RandomForestClassifier(bootstrap=True, ccp_alpha=0.0, class_weight=None,\n",
      "                       criterion='gini', max_depth=17, max_features='sqrt',\n",
      "                       max_leaf_nodes=None, max_samples=None,\n",
      "                       min_impurity_decrease=0.0, min_impurity_split=None,\n",
      "                       min_samples_leaf=1, min_samples_split=2,\n",
      "                       min_weight_fraction_leaf=0.0, n_estimators=1000,\n",
      "                       n_jobs=-1, oob_score=False, random_state=0, verbose=0,\n",
      "                       warm_start=False)\n"
     ]
    }
   ],
   "source": [
    "### load model optimised by MLBox ###\n",
    "with open('./RF_trained_christine.pkl', 'rb') as input_file:\n",
    "    RF_trained = pickle.load(input_file)\n",
    "print(RF_trained)"
   ]
  },
  {
   "cell_type": "code",
   "execution_count": 10,
   "metadata": {},
   "outputs": [
    {
     "name": "stdout",
     "output_type": "stream",
     "text": [
      "Index(['v_11_nor', 'pca0', 'v_16_nor', 'v_1_nor', 'v_9_nor', 'v_3_nor',\n",
      "       'v_5_nor', 'v_2_nor', 'pca1', 'v_8_nor', 'pca2', 'v_13_nor'],\n",
      "      dtype='object')\n"
     ]
    }
   ],
   "source": [
    "### read the test dataframe ###\n",
    "df_test_RF = pd.read_csv('./christine_test_after_fs_RF.csv', index_col=[0])\n",
    "print (df_test_RF.columns)"
   ]
  },
  {
   "cell_type": "code",
   "execution_count": 11,
   "metadata": {},
   "outputs": [
    {
     "data": {
      "text/plain": [
       "array([0, 0, 0, ..., 1, 0, 0], dtype=int32)"
      ]
     },
     "execution_count": 11,
     "metadata": {},
     "output_type": "execute_result"
    }
   ],
   "source": [
    "### you can generate predicitons ##\n",
    "RF_trained.predict(df_test_RF)"
   ]
  },
  {
   "cell_type": "markdown",
   "metadata": {},
   "source": [
    "## Now, you can write your interpret. toolbox \n",
    "that can import from here, for example"
   ]
  },
  {
   "cell_type": "code",
   "execution_count": null,
   "metadata": {},
   "outputs": [],
   "source": [
    "from interpret_toolbox import ShapExplainer, LimeExplainer\n",
    "shap = ShapExplainer()\n",
    "# use shap's TreeExplainer to explain our RF_trained\n",
    "shap.explain(algorithm='tree', model_to_explain=RF_trained, X_test=df_test_RF) "
   ]
  },
  {
   "cell_type": "markdown",
   "metadata": {},
   "source": [
    "You should also include a tech. supporting report to guide me through the right installation of these libraries."
   ]
  },
  {
   "cell_type": "markdown",
   "metadata": {},
   "source": [
    "## Let me know if you need anything, Good luck!\n"
   ]
  },
  {
   "cell_type": "code",
   "execution_count": null,
   "metadata": {},
   "outputs": [],
   "source": []
  }
 ],
 "metadata": {
  "kernelspec": {
   "display_name": "Python 3",
   "language": "python",
   "name": "python3"
  },
  "language_info": {
   "codemirror_mode": {
    "name": "ipython",
    "version": 3
   },
   "file_extension": ".py",
   "mimetype": "text/x-python",
   "name": "python",
   "nbconvert_exporter": "python",
   "pygments_lexer": "ipython3",
   "version": "3.7.2"
  }
 },
 "nbformat": 4,
 "nbformat_minor": 2
}
